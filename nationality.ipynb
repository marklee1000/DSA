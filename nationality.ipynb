{
 "cells": [
  {
   "cell_type": "code",
   "execution_count": 19,
   "metadata": {},
   "outputs": [
    {
     "name": "stdout",
     "output_type": "stream",
     "text": [
      "Nationality (1-Filo, 2-Foreign): 2\n",
      "Gender (1-male, 2-female): 2\n",
      "Year Level: 2\n",
      "1450\n"
     ]
    }
   ],
   "source": [
    "na=int(input(\"Nationality (1-Filo, 2-Foreign): \"))\n",
    "g=int(input(\"Gender (1-male, 2-female): \"))\n",
    "yl=int(input(\"Year Level: \"))\n",
    "if g==1 and yl==4:\n",
    "    mf=800+500\n",
    "if g==2 and (yl==1 or yl==2):\n",
    "    mf=800+250\n",
    "if na==2:\n",
    "    mf=mf+400\n",
    "print(mf)"
   ]
  },
  {
   "cell_type": "code",
   "execution_count": null,
   "metadata": {},
   "outputs": [],
   "source": []
  }
 ],
 "metadata": {
  "kernelspec": {
   "display_name": "Python 3",
   "language": "python",
   "name": "python3"
  },
  "language_info": {
   "codemirror_mode": {
    "name": "ipython",
    "version": 3
   },
   "file_extension": ".py",
   "mimetype": "text/x-python",
   "name": "python",
   "nbconvert_exporter": "python",
   "pygments_lexer": "ipython3",
   "version": "3.7.0"
  }
 },
 "nbformat": 4,
 "nbformat_minor": 2
}
