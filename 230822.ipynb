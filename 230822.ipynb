{
 "cells": [
  {
   "cell_type": "code",
   "execution_count": 2,
   "metadata": {},
   "outputs": [
    {
     "name": "stdout",
     "output_type": "stream",
     "text": [
      "First Number = 10\n",
      "Second Number = 4\n",
      "Operator [+,-,*,/,%]: %\n",
      "Remainder of 10 divided by 4 is 2\n"
     ]
    }
   ],
   "source": [
    "'''\n",
    "Input: 2 numbers, op[+,-,*,/,%]\n",
    "Output: result of the given operation\n",
    "'''\n",
    "#input\n",
    "n1=int(input(\"First Number = \"))\n",
    "n2=int(input(\"Second Number = \"))\n",
    "op=input(\"Operator [+,-,*,/,%]: \")\n",
    "\n",
    "#process\n",
    "if op == '+':\n",
    "    print(f\"Sum of {n1} and {n2} is\" ,n1+n2)\n",
    "elif op == '-':\n",
    "    print(f\"Difference of {n1} and {n2} is\" ,n1-n2)\n",
    "elif op == '*':\n",
    "    print(f\"Product of {n1} and {n2} is\" ,n1*n2)\n",
    "elif op == '/':\n",
    "    print(f\"Quotient of {n1} and {n2} is\" ,n1/n2)\n",
    "elif op == '%':\n",
    "    print(f\"Remainder of {n1} divided by {n2} is\" ,n1%n2)\n",
    "else:\n",
    "    print(\"Invalid input\")"
   ]
  },
  {
   "cell_type": "code",
   "execution_count": null,
   "metadata": {},
   "outputs": [],
   "source": [
    "'''\n",
    "Input: kind of appliance, sale price\n",
    "output: commission\n",
    "\n",
    "Kind of appliance        Commission\n",
    "1                        20% of sale price or P1000, whichever is more\n",
    "2                        7% of sale price or P800, whichever is less\n",
    "3                        12% of sale price\n",
    "4                        P1500 regardless of sale price\n",
    "'''\n",
    "\n",
    "ka=int(input(\"Kind of Appliance = \"))\n",
    "sp = float(input(\"Sale Price = \"))\n",
    "\n",
    "if ka == 1:\n",
    "    m=0.2*sp\n",
    "    if (m > 1000):\n",
    "        com=m\n",
    "    else:\n",
    "        com=1000\n",
    "elif ka == 2:\n",
    "    m=0.07*sp\n",
    "    if (m < 800):\n",
    "        com=m\n",
    "    else:\n",
    "        com=800\n",
    "elif ka == 3:\n",
    "    com=0.12*sp\n",
    "elif ka == 4:\n",
    "    com=1500\n",
    "else:\n",
    "    print(\"1 to 4 ONLY!!!\")\n",
    "    \n",
    "print(\"Commission = \",com)\n"
   ]
  },
  {
   "cell_type": "code",
   "execution_count": null,
   "metadata": {},
   "outputs": [],
   "source": []
  }
 ],
 "metadata": {
  "kernelspec": {
   "display_name": "Python 3",
   "language": "python",
   "name": "python3"
  },
  "language_info": {
   "codemirror_mode": {
    "name": "ipython",
    "version": 3
   },
   "file_extension": ".py",
   "mimetype": "text/x-python",
   "name": "python",
   "nbconvert_exporter": "python",
   "pygments_lexer": "ipython3",
   "version": "3.7.0"
  }
 },
 "nbformat": 4,
 "nbformat_minor": 2
}
