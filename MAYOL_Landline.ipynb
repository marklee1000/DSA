{
 "cells": [
  {
   "cell_type": "code",
   "execution_count": 3,
   "metadata": {},
   "outputs": [
    {
     "name": "stdout",
     "output_type": "stream",
     "text": [
      "Hi! This is BEA, your Online Assistant for your phone call bill.\n",
      "\n",
      "Here are the corresponding fees depending on the conditions of your call. Please be guided accordingly\n",
      "\n",
      "Base Price - 10 pesos\n",
      "P 0 - Inside PH; P 30 - Southeast Asia except PH; P 100 - Outside Southeast Asia\n",
      "\n",
      "P 0 - 7AM-6:59PM; P 10 - 7PM-6:59AM\n",
      "\n",
      "No additional for first 2 minutes; additional P 0.3 for every second after\n",
      "\n",
      "\n",
      "-------------------------------------------------------------------------------------------------------------------\n",
      "\n",
      "Enter the key that reflects the details of your call...\n",
      "Region of Call:\n",
      "1 - Inside PH;\n",
      "2 - Southeast Asia except PH;\n",
      "3 - Outside Southeast Asia\n",
      "\n",
      "Please enter... 3\n",
      "\n",
      "Time of Call:\n",
      "1 - 7AM-6:59PM;\n",
      "2 - 7PM-6:59AM\n",
      "\n",
      "Please enter...2\n",
      "\n",
      "Time Elapsed (in seconds): 300\n",
      "\n",
      "Your amount to pay is 174.0 pesos! Thank you for availing our services <3\n"
     ]
    }
   ],
   "source": [
    "print(\"Hi! This is BEA, your Online Assistant for your phone call bill.\\n\")\n",
    "print(\"Here are the corresponding fees depending on the conditions of your call. Please be guided accordingly\\n\")\n",
    "print(\"Base Price - 10 pesos\\nP 0 - Inside PH; P 30 - Southeast Asia except PH; P 100 - Outside Southeast Asia\\n\")\n",
    "print(\"P 0 - 7AM-6:59PM; P 10 - 7PM-6:59AM\\n\")\n",
    "print(\"No additional for first 2 minutes; additional P 0.3 for every second after\\n\\n\")\n",
    "print(\"-------------------------------------------------------------------------------------------------------------------\\n\")\n",
    "print(\"Enter the key that reflects the details of your call...\")\n",
    "      \n",
    "reg = int(input(\"Region of Call:\\n1 - Inside PH;\\n2 - Southeast Asia except PH;\\n3 - Outside Southeast Asia\\n\\nPlease enter... \"))\n",
    "time = int(input(\"\\nTime of Call:\\n1 - 7AM-6:59PM;\\n2 - 7PM-6:59AM\\n\\nPlease enter...\"))\n",
    "sec = int(input(\"\\nTime Elapsed (in seconds): \"))\n",
    "      \n",
    "bp = 10\n",
    "if reg == 2:\n",
    "    bp += 30\n",
    "elif reg == 3:\n",
    "    bp += 100\n",
    "if time == 2:\n",
    "    bp += 10\n",
    "if sec>120:\n",
    "    bp = bp + (0.3*(sec-120))\n",
    "    \n",
    "print(f\"\\nYour amount to pay is {bp} pesos! Thank you for availing our services <3\")"
   ]
  },
  {
   "cell_type": "code",
   "execution_count": null,
   "metadata": {},
   "outputs": [
    {
     "name": "stdout",
     "output_type": "stream",
     "text": [
      "Enter any key and see your face!\n",
      "f\n",
      "\n",
      "Your Face: (づ｡◕‿‿◕｡)づ\n",
      "\n"
     ]
    }
   ],
   "source": [
    "input(\"Enter any key and see your face!\\n\")\n",
    "print(\"\\nYour Face: (づ｡◕‿‿◕｡)づ\\n\")\n",
    "\n",
    "year = int(input(\"Year of birthday: \"))\n",
    "month = int(input(\"Month of birthday: \"))\n",
    "day = int(input(\"Day of birthday: \"))\n",
    "\n",
    "print(\"\\n╔════════════════════╗\\n║ February ░░░░ 2004 ║\\n╟──┬──┬──┬──┬──┬──┬──╢\\n║░░│░░│░░│░░│░░│░░│░░║\\n╟──┼──┼──┼──┼──┼──┼──╢\\n║01│02│03│04│05│06│07║\\n╔══╗──┼──┼──┼──┼──┼──╢\\n║08║09│10│11│12│13│14║\\n╚══╝──┼──┼──┼──┼──┼──╢\\n║15│16│17│18│19│20│21║\\n╟──┼──┼──┼──┼──┼──┼──╢\\n║22│23│24│25│26│27│28║\\n╚══╧══╧══╧══╧══╧══╧══╝\")"
   ]
  },
  {
   "cell_type": "code",
   "execution_count": null,
   "metadata": {},
   "outputs": [],
   "source": []
  }
 ],
 "metadata": {
  "kernelspec": {
   "display_name": "Python 3",
   "language": "python",
   "name": "python3"
  },
  "language_info": {
   "codemirror_mode": {
    "name": "ipython",
    "version": 3
   },
   "file_extension": ".py",
   "mimetype": "text/x-python",
   "name": "python",
   "nbconvert_exporter": "python",
   "pygments_lexer": "ipython3",
   "version": "3.7.0"
  }
 },
 "nbformat": 4,
 "nbformat_minor": 2
}
