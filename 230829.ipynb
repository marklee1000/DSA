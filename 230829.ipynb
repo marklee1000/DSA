{
 "cells": [
  {
   "cell_type": "code",
   "execution_count": 1,
   "metadata": {},
   "outputs": [
    {
     "name": "stdout",
     "output_type": "stream",
     "text": [
      "FEU\n",
      "FEU\n",
      "FEU\n",
      "FEU\n",
      "FEU\n"
     ]
    }
   ],
   "source": [
    "for x in range (5):\n",
    "    print('FEU')"
   ]
  },
  {
   "cell_type": "code",
   "execution_count": 2,
   "metadata": {},
   "outputs": [
    {
     "name": "stdout",
     "output_type": "stream",
     "text": [
      "FEU\n",
      "FEU\n",
      "FEU\n",
      "FEU\n"
     ]
    }
   ],
   "source": [
    "for x in range (2, 10, 2):\n",
    "    print(\"FEU\")"
   ]
  },
  {
   "cell_type": "code",
   "execution_count": 3,
   "metadata": {},
   "outputs": [
    {
     "name": "stdout",
     "output_type": "stream",
     "text": [
      "FEU\n",
      "FEU\n",
      "FEU\n",
      "FEU\n",
      "FEU\n"
     ]
    }
   ],
   "source": [
    "for x in range (25, 0, -5):\n",
    "    print(\"FEU\")"
   ]
  },
  {
   "cell_type": "code",
   "execution_count": 8,
   "metadata": {},
   "outputs": [
    {
     "name": "stdout",
     "output_type": "stream",
     "text": [
      "74.6268656716418\n",
      "149.2537313432836\n",
      "223.8805970149254\n",
      "298.5074626865672\n",
      "373.13432835820896\n",
      "447.76119402985074\n",
      "522.3880597014926\n",
      "597.0149253731344\n",
      "671.6417910447761\n",
      "746.2686567164179\n",
      "820.8955223880597\n",
      "895.5223880597015\n",
      "970.1492537313433\n",
      "1044.7761194029852\n",
      "1119.402985074627\n"
     ]
    }
   ],
   "source": [
    "x = 0\n",
    "while x <= 1050:\n",
    "    av = 10000/134\n",
    "    x += av\n",
    "    print(x)"
   ]
  },
  {
   "cell_type": "code",
   "execution_count": 3,
   "metadata": {},
   "outputs": [
    {
     "name": "stdout",
     "output_type": "stream",
     "text": [
      "m   5   ; m   10   ; m   15   ; m   20   ; "
     ]
    }
   ],
   "source": [
    "n1='m'\n",
    "n2=5\n",
    "for x in range (4):\n",
    "    print(n1,\" \",n2,\" \",\";\", end = ' ')\n",
    "    chr(ord(n1)+2)\n",
    "    n2 += 5"
   ]
  },
  {
   "cell_type": "code",
   "execution_count": 6,
   "metadata": {},
   "outputs": [
    {
     "name": "stdout",
     "output_type": "stream",
     "text": [
      "m   5   ;\n",
      "m   10   ;\n",
      "m   15   ;\n",
      "m   20   ;\n"
     ]
    }
   ],
   "source": [
    "n1='m'\n",
    "n2=5\n",
    "for x in range (4):\n",
    "    print(n1,\" \",n2,\" \",\";\")\n",
    "    chr(ord(n1)+2)\n",
    "    n2 += 5"
   ]
  },
  {
   "cell_type": "code",
   "execution_count": 9,
   "metadata": {},
   "outputs": [
    {
     "name": "stdout",
     "output_type": "stream",
     "text": [
      "m   5   ; m   10   ; m   15   ; m   20   ; \n",
      "5 6 4 7 3 8 2 9 1 10 "
     ]
    }
   ],
   "source": [
    "n1='m'\n",
    "n2=5\n",
    "for x in range (4):\n",
    "    print(n1,\" \",n2,\" \",\";\", end = ' ')\n",
    "    chr(ord(n1)+2)\n",
    "    n2 += 5\n",
    "print()\n",
    "y=6\n",
    "for x in range (5,0,-1):\n",
    "    print(x,y, end = ' ')\n",
    "    y += 1"
   ]
  },
  {
   "cell_type": "code",
   "execution_count": 10,
   "metadata": {},
   "outputs": [
    {
     "name": "stdout",
     "output_type": "stream",
     "text": [
      "11 8 5 2 & & & & a c e g "
     ]
    }
   ],
   "source": [
    "for x in range (11,0,-3):\n",
    "    print(x, end = ' ')\n",
    "for x in range (4):\n",
    "    print('&',end = ' ')\n",
    "n1='a'\n",
    "for x in range (4):\n",
    "    print(n1,end = ' ')\n",
    "    n1=chr(ord(n1)+2)"
   ]
  },
  {
   "cell_type": "code",
   "execution_count": 2,
   "metadata": {},
   "outputs": [
    {
     "name": "stdout",
     "output_type": "stream",
     "text": [
      "34\n",
      "85\n",
      "93\n",
      "57\n",
      "78\n",
      "39\n",
      "75\n",
      "96\n",
      "44\n",
      "19\n",
      "620 62.0\n",
      "0\n",
      "0\n",
      "1296\n"
     ]
    }
   ],
   "source": [
    "s=0\n",
    "ctr1=0\n",
    "ctr2=0\n",
    "nume=0\n",
    "deno=0\n",
    "p=1\n",
    "for x in range (10):\n",
    "    n=int(input())\n",
    "    s+=n\n",
    "    if n<0:\n",
    "        ctr1+=1\n",
    "    if n>=8 and n<=10:\n",
    "        ctr2+=1\n",
    "    if n<12 and n!=5:\n",
    "        p*=n\n",
    "    if n%3==0 and n>10:\n",
    "        nume+=n\n",
    "        deno+=1\n",
    "        \n",
    "ave=s/10\n",
    "min=p**0.5\n",
    "sub=nume/deno\n",
    "d=3*(nume-deno)\n",
    "print(s, ave)\n",
    "print(ctr1)\n",
    "print(ctr2)\n",
    "print(d)"
   ]
  },
  {
   "cell_type": "markdown",
   "metadata": {},
   "source": [
    "thrice the difference of the average of all numbers divisible by 3 and greater than 10 from the square root of the product of all numbers less than 12 and not equal to 5\n",
    "\n",
    "3(avn3>10 - sqrt(pn<12&n!=5))"
   ]
  },
  {
   "cell_type": "markdown",
   "metadata": {},
   "source": [
    "--------------------------------------------------------------------------------------------------------------------------------\n",
    "\n",
    "input: 10 numbers\n",
    "output:\n",
    "a) average of smallest and largest number\n",
    "b) total of all numbers divisible by 2 and 3\n",
    "c) cube root of the average of all odd numbers"
   ]
  },
  {
   "cell_type": "code",
   "execution_count": 4,
   "metadata": {},
   "outputs": [
    {
     "name": "stdout",
     "output_type": "stream",
     "text": [
      "1\n",
      "2\n",
      "3\n",
      "4\n",
      "5\n",
      "6\n",
      "7\n",
      "8\n",
      "9\n",
      "10\n",
      "1 10 5.5\n",
      "6\n",
      "1.7099759466766968\n"
     ]
    }
   ],
   "source": [
    "t23=0\n",
    "nume=0\n",
    "deno=0\n",
    "n=int(input())\n",
    "S=n\n",
    "L=n\n",
    "if n%2==0 and n%3==0:\n",
    "    t23=n\n",
    "if n%2==1:\n",
    "    nume=n\n",
    "    deno=1\n",
    "for x in range (9):\n",
    "    n=int(input())\n",
    "    if n>L:\n",
    "        L=n\n",
    "    if n<S:\n",
    "        S=n\n",
    "    if n%2==0 and n%3==0:\n",
    "        t23+=n\n",
    "    if n%2==1:\n",
    "        nume+=n\n",
    "        deno+=1\n",
    "        \n",
    "if deno!=0:\n",
    "    c=(nume/deno)**(1/3)\n",
    "else:\n",
    "    c=0\n",
    "        \n",
    "ave=(L+S)/2\n",
    "print(S,L,ave)\n",
    "print(t23)\n",
    "print(c)"
   ]
  },
  {
   "cell_type": "code",
   "execution_count": null,
   "metadata": {},
   "outputs": [],
   "source": []
  }
 ],
 "metadata": {
  "kernelspec": {
   "display_name": "Python 3",
   "language": "python",
   "name": "python3"
  },
  "language_info": {
   "codemirror_mode": {
    "name": "ipython",
    "version": 3
   },
   "file_extension": ".py",
   "mimetype": "text/x-python",
   "name": "python",
   "nbconvert_exporter": "python",
   "pygments_lexer": "ipython3",
   "version": "3.7.0"
  }
 },
 "nbformat": 4,
 "nbformat_minor": 2
}
