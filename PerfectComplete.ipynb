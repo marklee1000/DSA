{
 "cells": [
  {
   "cell_type": "markdown",
   "id": "fd86f77f",
   "metadata": {},
   "source": [
    "# Perfect binary tree"
   ]
  },
  {
   "cell_type": "code",
   "execution_count": 3,
   "id": "b54427b4",
   "metadata": {},
   "outputs": [
    {
     "name": "stdout",
     "output_type": "stream",
     "text": [
      "The tree is not a perfect binary tree\n"
     ]
    }
   ],
   "source": [
    "#Creating a node\n",
    "class newNode:\n",
    "    def __init__(self, k):\n",
    "        self.key = k\n",
    "        self.right = self.left = None\n",
    "# Calculate the depth\n",
    "def calculateDepth(node):\n",
    "    d = 0\n",
    "    while (node is not None):\n",
    "        d += 1\n",
    "        node = node.left\n",
    "    return d\n",
    "# Check if the tree is perfect binary tree\n",
    "def is_perfect(root, d, level=0):\n",
    "    # Check if the tree is empty\n",
    "    if (root is None):\n",
    "        return True\n",
    "    # Check the presence of trees\n",
    "    if (root.left is None and root.right is None):\n",
    "        return (d == level + 1)\n",
    "    if (root.left is None or root.right is None):\n",
    "        return False\n",
    "    return (is_perfect(root.left, d, level + 1) and is_perfect(root.right, d, level + 1))\n",
    "\n",
    "root = None\n",
    "root = newNode(1)\n",
    "root.left = newNode(2)\n",
    "root.right = newNode(3)\n",
    "root.left.left = newNode( 4)\n",
    "root.left.right = newNode( 5)\n",
    "\n",
    "if (is_perfect(root, calculateDepth(root))):\n",
    "    print(\"The tree is a perfect binary tree\" )\n",
    "else:\n",
    "    print(\"The tree is not a perfect binary tree\" )\n"
   ]
  },
  {
   "cell_type": "markdown",
   "id": "01832b03",
   "metadata": {},
   "source": [
    "# Complete binary tree"
   ]
  },
  {
   "cell_type": "code",
   "execution_count": 4,
   "id": "65783319",
   "metadata": {},
   "outputs": [
    {
     "name": "stdout",
     "output_type": "stream",
     "text": [
      "The tree is a complete binary tree\n"
     ]
    }
   ],
   "source": [
    "# Checking if a binary tree is a complete binary tree in C\n",
    "\n",
    "\n",
    "class Node:\n",
    "\n",
    "    def __init__(self, item):\n",
    "        self.item = item\n",
    "        self.left = None\n",
    "        self.right = None\n",
    "\n",
    "\n",
    "# Count the number of nodes\n",
    "def count_nodes(root):\n",
    "    if root is None:\n",
    "        return 0\n",
    "    return (1 + count_nodes(root.left) + count_nodes(root.right))\n",
    "\n",
    "\n",
    "# Check if the tree is complete binary tree\n",
    "def is_complete(root, index, numberNodes):\n",
    "\n",
    "    # Check if the tree is empty\n",
    "    if root is None:\n",
    "        return True\n",
    "\n",
    "    if index >= numberNodes:\n",
    "        return False\n",
    "\n",
    "    return (is_complete(root.left, 2 * index + 1, numberNodes)\n",
    "            and is_complete(root.right, 2 * index + 2, numberNodes))\n",
    "\n",
    "\n",
    "root = Node(1)\n",
    "root.left = Node(2)\n",
    "root.right = Node(3)\n",
    "root.left.left = Node(4)\n",
    "root.left.right = Node(5)\n",
    "root.right.left = Node(6)\n",
    "\n",
    "node_count = count_nodes(root)\n",
    "index = 0\n",
    "\n",
    "if is_complete(root, index, node_count):\n",
    "    print(\"The tree is a complete binary tree\")\n",
    "else:\n",
    "    print(\"The tree is not a complete binary tree\")\n"
   ]
  },
  {
   "cell_type": "code",
   "execution_count": null,
   "id": "4b4e0c7a",
   "metadata": {},
   "outputs": [],
   "source": []
  }
 ],
 "metadata": {
  "kernelspec": {
   "display_name": "Python 3 (ipykernel)",
   "language": "python",
   "name": "python3"
  },
  "language_info": {
   "codemirror_mode": {
    "name": "ipython",
    "version": 3
   },
   "file_extension": ".py",
   "mimetype": "text/x-python",
   "name": "python",
   "nbconvert_exporter": "python",
   "pygments_lexer": "ipython3",
   "version": "3.9.13"
  }
 },
 "nbformat": 4,
 "nbformat_minor": 5
}
