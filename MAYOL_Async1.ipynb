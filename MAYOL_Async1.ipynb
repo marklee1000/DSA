{
 "cells": [
  {
   "cell_type": "code",
   "execution_count": 2,
   "metadata": {},
   "outputs": [
    {
     "name": "stdout",
     "output_type": "stream",
     "text": [
      "GRADE CALCULATOR\n",
      "\n",
      "QUIZZES:\n",
      "\n",
      "\n",
      "\n",
      "ASSIGNMENTS:\n",
      "\n",
      "\n",
      "\n",
      "SEATWORKS:\n",
      "\n",
      "\n",
      "\n",
      "MAJOR EXAMS:\n",
      "\n",
      "\n",
      "\n",
      "Your final grade is  95.0\n"
     ]
    }
   ],
   "source": [
    "print('GRADE CALCULATOR\\n\\nQUIZZES:\\n')\n",
    "Q1 = float(input(\"Enter the score for Quiz 1: \"))\n",
    "Q2 = float(input(\"Enter the score for Quiz 2: \"))\n",
    "Q3 = float(input(\"Enter the score for Quiz 3: \"))\n",
    "Q4 = float(input(\"Enter the score for Quiz 4: \"))\n",
    "Q5 = float(input(\"Enter the score for Quiz 5: \"))\n",
    "print('\\n\\nASSIGNMENTS:\\n')\n",
    "A1 = float(input(\"Enter the score for Assignment 1: \"))\n",
    "A2 = float(input(\"Enter the score for Assignment 2: \"))\n",
    "print('\\n\\nSEATWORKS:\\n')\n",
    "S1 = float(input(\"Enter the score for Seatwork 1: \"))\n",
    "S2 = float(input(\"Enter the score for Seatwork 2: \"))\n",
    "print('\\n\\nMAJOR EXAMS:\\n')\n",
    "M1 = float(input(\"Enter the score for Major Exam 1: \"))\n",
    "AQ = (Q1+Q2+Q3+Q4+Q5)/5\n",
    "CS = (A1+A2+S1+S2)/4\n",
    "Grade = (0.5*M1)+(0.4*AQ)+(0.1*CS)\n",
    "print('\\n\\nYour final grade is ',Grade)"
   ]
  },
  {
   "cell_type": "code",
   "execution_count": null,
   "metadata": {},
   "outputs": [],
   "source": []
  }
 ],
 "metadata": {
  "kernelspec": {
   "display_name": "Python 3",
   "language": "python",
   "name": "python3"
  },
  "language_info": {
   "codemirror_mode": {
    "name": "ipython",
    "version": 3
   },
   "file_extension": ".py",
   "mimetype": "text/x-python",
   "name": "python",
   "nbconvert_exporter": "python",
   "pygments_lexer": "ipython3",
   "version": "3.11.2"
  },
  "orig_nbformat": 4
 },
 "nbformat": 4,
 "nbformat_minor": 2
}
