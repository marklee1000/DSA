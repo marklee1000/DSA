{
 "cells": [
  {
   "cell_type": "code",
   "execution_count": 3,
   "metadata": {},
   "outputs": [
    {
     "name": "stdout",
     "output_type": "stream",
     "text": [
      "╔════════════════════╗\n",
      "║ February ░░░░ 2004 ║\n",
      "╟──┬──┬──┬──┬──┬──┬──╢\n",
      "║░░│░░│░░│░░│░░│░░│░░║\n",
      "╟──┼──┼──┼──┼──┼──┼──╢\n",
      "║01│02│03│04│05│06│07║\n",
      "╔══╗──┼──┼──┼──┼──┼──╢\n",
      "║08║09│10│11│12│13│14║\n",
      "╚══╝──┼──┼──┼──┼──┼──╢\n",
      "║15│16│17│18│19│20│21║\n",
      "╟──┼──┼──┼──┼──┼──┼──╢\n",
      "║22│23│24│25│26│27│28║\n",
      "╚══╧══╧══╧══╧══╧══╧══╝\n"
     ]
    }
   ],
   "source": [
    "print(\"╔════════════════════╗\\n║ February ░░░░ 2004 ║\\n╟──┬──┬──┬──┬──┬──┬──╢\\n║░░│░░│░░│░░│░░│░░│░░║\\n╟──┼──┼──┼──┼──┼──┼──╢\\n║01│02│03│04│05│06│07║\\n╔══╗──┼──┼──┼──┼──┼──╢\\n║08║09│10│11│12│13│14║\\n╚══╝──┼──┼──┼──┼──┼──╢\\n║15│16│17│18│19│20│21║\\n╟──┼──┼──┼──┼──┼──┼──╢\\n║22│23│24│25│26│27│28║\\n╚══╧══╧══╧══╧══╧══╧══╝\")"
   ]
  },
  {
   "cell_type": "code",
   "execution_count": null,
   "metadata": {},
   "outputs": [],
   "source": []
  }
 ],
 "metadata": {
  "kernelspec": {
   "display_name": "Python 3",
   "language": "python",
   "name": "python3"
  },
  "language_info": {
   "codemirror_mode": {
    "name": "ipython",
    "version": 3
   },
   "file_extension": ".py",
   "mimetype": "text/x-python",
   "name": "python",
   "nbconvert_exporter": "python",
   "pygments_lexer": "ipython3",
   "version": "3.7.0"
  }
 },
 "nbformat": 4,
 "nbformat_minor": 2
}
