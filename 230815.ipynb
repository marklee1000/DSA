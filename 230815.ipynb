{
 "cells": [
  {
   "cell_type": "code",
   "execution_count": 1,
   "metadata": {},
   "outputs": [
    {
     "name": "stdout",
     "output_type": "stream",
     "text": [
      "Sum = 11\n"
     ]
    }
   ],
   "source": [
    "x=5\n",
    "y=6\n",
    "s=x+y\n",
    "print(\"Sum =\", s)"
   ]
  },
  {
   "cell_type": "code",
   "execution_count": 3,
   "metadata": {},
   "outputs": [
    {
     "name": "stdout",
     "output_type": "stream",
     "text": [
      "First Number = 4\n",
      "Second Number = 5\n",
      "Third Number = 6\n",
      "A =  10.0\n",
      "B =  (-0.6249999999999999+1.0532687216470449j)\n"
     ]
    }
   ],
   "source": [
    "x=int(input(\"First Number = \"))\n",
    "y=int(input(\"Second Number = \"))\n",
    "z=int(input(\"Third Number = \"))\n",
    "\n",
    "a = 2*((x+y+z)/3)\n",
    "b = (-y+(y**2-4*x*z)**(0.5))/(2*x)\n",
    "\n",
    "print(\"A = \", a)\n",
    "print(\"B = \", b)"
   ]
  },
  {
   "cell_type": "code",
   "execution_count": 4,
   "metadata": {},
   "outputs": [
    {
     "name": "stdout",
     "output_type": "stream",
     "text": [
      "25\n",
      "Distance in inches =  9.84251968503937\n",
      "Distance in feet =  0.8202099737532809\n"
     ]
    }
   ],
   "source": [
    "#UNIT CONVERSION#\n",
    "#DISTANCE CONVERSION#\n",
    "\n",
    "dcm = int(input())\n",
    "din = dcm/2.54\n",
    "dft = din/12\n",
    "print(\"Distance in inches = \",din)\n",
    "print(\"Distance in feet = \",dft)"
   ]
  },
  {
   "cell_type": "code",
   "execution_count": 6,
   "metadata": {},
   "outputs": [
    {
     "name": "stdout",
     "output_type": "stream",
     "text": [
      "60000\n",
      "Time in minutes =  1000.0\n",
      "Time in hours =  16.666666666666668\n"
     ]
    }
   ],
   "source": [
    "#TIME CONVERSION#\n",
    "\n",
    "ts=int(input())\n",
    "tm=ts/60\n",
    "th=tm/60\n",
    "print(\"Time in minutes = \",tm)\n",
    "print(\"Time in hours = \",th)"
   ]
  },
  {
   "cell_type": "code",
   "execution_count": 8,
   "metadata": {},
   "outputs": [
    {
     "name": "stdout",
     "output_type": "stream",
     "text": [
      "100\n",
      "Weight in kg =  45.248868778280546\n",
      "Weight in tons =  0.04524886877828055\n"
     ]
    }
   ],
   "source": [
    "#WEIGHT CONVERSION\n",
    "\n",
    "wlb=int(input())\n",
    "wkg=wlb/2.21\n",
    "wt=wkg*0.001\n",
    "print(\"Weight in kg = \",wkg)\n",
    "print(\"Weight in tons = \",wt)"
   ]
  },
  {
   "cell_type": "code",
   "execution_count": null,
   "metadata": {},
   "outputs": [],
   "source": []
  }
 ],
 "metadata": {
  "kernelspec": {
   "display_name": "Python 3",
   "language": "python",
   "name": "python3"
  },
  "language_info": {
   "codemirror_mode": {
    "name": "ipython",
    "version": 3
   },
   "file_extension": ".py",
   "mimetype": "text/x-python",
   "name": "python",
   "nbconvert_exporter": "python",
   "pygments_lexer": "ipython3",
   "version": "3.7.0"
  }
 },
 "nbformat": 4,
 "nbformat_minor": 2
}
