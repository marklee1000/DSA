{
 "cells": [
  {
   "cell_type": "code",
   "execution_count": 9,
   "metadata": {},
   "outputs": [
    {
     "name": "stdout",
     "output_type": "stream",
     "text": [
      "1\n",
      "2\n",
      "3\n",
      "4\n",
      "1 2 \n",
      "3 4 \n",
      "\n",
      "\n",
      "5\n",
      "6\n",
      "7\n",
      "8\n",
      "5 6 \n",
      "7 8 \n",
      "\n",
      "\n",
      "6 8 \n",
      "10 12 \n",
      "\n",
      "1 3 \n",
      "2 4 \n"
     ]
    }
   ],
   "source": [
    "M=[]\n",
    "for i in range(2):\n",
    "    a=[]\n",
    "    for j in range(2):\n",
    "        a.append(int(input()))\n",
    "    M.append(a)\n",
    "for i in range (2):\n",
    "    for j in range (2):\n",
    "        print(M[i][j], end=\" \")\n",
    "    print()\n",
    "print(\"\\n\")\n",
    "N=[]\n",
    "for i in range(2):\n",
    "    a=[]\n",
    "    for j in range(2):\n",
    "        a.append(int(input()))\n",
    "    N.append(a)\n",
    "for i in range (2):\n",
    "    for j in range (2):\n",
    "        print(N[i][j], end=\" \")\n",
    "    print()\n",
    "print(\"\\n\")\n",
    "S=[]\n",
    "for i in range (2):\n",
    "    a=[]\n",
    "    for j in range (2):\n",
    "        s=M[i][j]+N[i][j]\n",
    "        a.append(s)\n",
    "    S.append(a)\n",
    "for i in range (2):\n",
    "    for j in range (2):\n",
    "        print(S[i][j], end = \" \")\n",
    "    print()\n",
    "print()\n",
    "T=[]\n",
    "for i in range (2):\n",
    "    a=[]\n",
    "    for j in range (2):\n",
    "        t=M[j][i]\n",
    "        a.append(t)\n",
    "    T.append(a)\n",
    "for i in range(2):\n",
    "    for j in range(2):\n",
    "        print(T[i][j], end=\" \")\n",
    "    print()"
   ]
  },
  {
   "cell_type": "code",
   "execution_count": null,
   "metadata": {},
   "outputs": [],
   "source": []
  }
 ],
 "metadata": {
  "kernelspec": {
   "display_name": "Python 3",
   "language": "python",
   "name": "python3"
  },
  "language_info": {
   "codemirror_mode": {
    "name": "ipython",
    "version": 3
   },
   "file_extension": ".py",
   "mimetype": "text/x-python",
   "name": "python",
   "nbconvert_exporter": "python",
   "pygments_lexer": "ipython3",
   "version": "3.7.0"
  }
 },
 "nbformat": 4,
 "nbformat_minor": 2
}
